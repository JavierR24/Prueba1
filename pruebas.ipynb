{
 "cells": [
  {
   "cell_type": "code",
   "execution_count": null,
   "metadata": {},
   "outputs": [],
   "source": [
    "###Variables \n",
    "#Las variables son contenedores de datos que se utilizan para almacenar valores en la memoria de un programa. \n",
    "#En Python, las variables se crean al asignarles un valor utilizando el operador de asignación (=). Por ejemplo: \n",
    "x = 10\n",
    "nombre = \"Juan\"\n"
   ]
  },
  {
   "cell_type": "code",
   "execution_count": 2,
   "metadata": {},
   "outputs": [
    {
     "name": "stdout",
     "output_type": "stream",
     "text": [
      "8\n"
     ]
    }
   ],
   "source": [
    "#Operaciones\n",
    "a = 5\n",
    "b = 3\n",
    "suma = a + b\n",
    "resta = a - b \n",
    "print(suma)\n"
   ]
  },
  {
   "cell_type": "code",
   "execution_count": 3,
   "metadata": {},
   "outputs": [
    {
     "name": "stdout",
     "output_type": "stream",
     "text": [
      "Juan Pérez\n"
     ]
    }
   ],
   "source": [
    "#Concatenacion de cadenas\n",
    "nombre = \"Juan\"\n",
    "apellido = \"Pérez\"\n",
    "nombre_completo = nombre + \" \" + apellido \n",
    "print(nombre_completo)\n"
   ]
  },
  {
   "cell_type": "code",
   "execution_count": null,
   "metadata": {},
   "outputs": [],
   "source": [
    "nombre = \"Juan\"\n",
    "apellido = \"Pérez\"\n",
    "nombre_completo = nombre + \" \" + apellido\n"
   ]
  },
  {
   "cell_type": "code",
   "execution_count": null,
   "metadata": {},
   "outputs": [],
   "source": [
    "#Acceso a elementos de estructuras de datos\n",
    "mi_lista = [1, 2, 3, 4, 5]\n",
    "primer_elemento = mi_lista[0]\n",
    "\n",
    "mi_tupla = (10, 20, 30)\n",
    "segundo_elemento = mi_tupla[1]\n",
    "\n",
    "mi_diccionario = {\"nombre\": \"Juan\", \"edad\": 30}\n",
    "edad = mi_diccionario[\"edad\"]\n"
   ]
  },
  {
   "cell_type": "code",
   "execution_count": null,
   "metadata": {},
   "outputs": [],
   "source": [
    "#Asignacion Multiple \n",
    "x, y, z = 10, 20, 30\n",
    "print()"
   ]
  },
  {
   "cell_type": "code",
   "execution_count": null,
   "metadata": {},
   "outputs": [],
   "source": [
    "##Conjuntos \n",
    "#Es un conjunto es una colección desordenada y mutable de elementos únicos. \n",
    "#Los conjuntos se utilizan para almacenar colecciones de elementos donde el orden de los elementos no importa y no se permiten elementos duplicados."
   ]
  },
  {
   "cell_type": "code",
   "execution_count": 1,
   "metadata": {},
   "outputs": [
    {
     "name": "stdout",
     "output_type": "stream",
     "text": [
      "1\n",
      "2\n",
      "3\n",
      "4\n",
      "5\n"
     ]
    }
   ],
   "source": [
    "# Definir un conjunto\n",
    "mi_conjunto = {1, 2, 3, 4, 5}\n",
    "\n",
    "# Iterar sobre el conjunto e imprimir cada elemento\n",
    "for elemento in mi_conjunto:\n",
    "    print(elemento)\n"
   ]
  },
  {
   "cell_type": "code",
   "execution_count": 2,
   "metadata": {},
   "outputs": [
    {
     "name": "stdout",
     "output_type": "stream",
     "text": [
      "Ingrese el primer número:  2\n",
      "Ingrese el segundo número:  3\n"
     ]
    },
    {
     "name": "stdout",
     "output_type": "stream",
     "text": [
      "La suma de los dos números es: 5.0\n"
     ]
    }
   ],
   "source": [
    "num1 = float(input(\"Ingrese el primer número: \"))\n",
    "num2 = float(input(\"Ingrese el segundo número: \"))\n",
    "suma = num1 + num2\n",
    "print(\"La suma de los dos números es:\", suma)\n"
   ]
  },
  {
   "cell_type": "code",
   "execution_count": 3,
   "metadata": {},
   "outputs": [
    {
     "name": "stdout",
     "output_type": "stream",
     "text": [
      "Ingrese su nombre:  carlos\n",
      "Ingrese su apellido:  nieto\n"
     ]
    },
    {
     "name": "stdout",
     "output_type": "stream",
     "text": [
      "Hola, carlos nieto!\n"
     ]
    }
   ],
   "source": [
    "nombre = input(\"Ingrese su nombre: \")\n",
    "apellido = input(\"Ingrese su apellido: \")\n",
    "saludo = \"Hola, \" + nombre + \" \" + apellido + \"!\"\n",
    "print(saludo)\n"
   ]
  },
  {
   "cell_type": "code",
   "execution_count": 4,
   "metadata": {},
   "outputs": [
    {
     "name": "stdout",
     "output_type": "stream",
     "text": [
      "Nueva tupla: (1, 2, 3, 4, 5, 6)\n"
     ]
    }
   ],
   "source": [
    "tupla1 = (1, 2, 3)\n",
    "tupla2 = (4, 5, 6)\n",
    "nueva_tupla = tupla1 + tupla2\n",
    "print(\"Nueva tupla:\", nueva_tupla)\n"
   ]
  },
  {
   "cell_type": "code",
   "execution_count": 3,
   "metadata": {},
   "outputs": [
    {
     "name": "stdout",
     "output_type": "stream",
     "text": [
      "(1, 'admin', 'admin@mail.com', None, '$2y$10$3nMem2qFbsHkHP6kcHsR5ubmkDpXNQ6Yf3o9LzuFMdmW4ZBduG1By', 'admin', None, datetime.datetime(2023, 12, 23, 20, 20, 50), datetime.datetime(2023, 12, 23, 20, 20, 50))\n"
     ]
    }
   ],
   "source": [
    "import mysql.connector\n",
    "\n",
    "# Establecer conexión con la base de datos\n",
    "conexion = mysql.connector.connect(\n",
    "    host=\"localhost\",\n",
    "    user=\"root\",\n",
    "    password=\"\",\n",
    "    database=\"fr\"\n",
    ")\n",
    "\n",
    "# Crear un cursor para ejecutar consultas\n",
    "cursor = conexion.cursor()\n",
    "\n",
    "# Ejecutar una consulta SQL\n",
    "cursor.execute(\"SELECT * FROM users\")\n",
    "\n",
    "# Obtener los resultados de la consulta\n",
    "resultados = cursor.fetchall()\n",
    "\n",
    "# Imprimir los resultados\n",
    "for fila in resultados:\n",
    "    print(fila)\n",
    "\n",
    "# Cerrar el cursor y la conexión\n",
    "cursor.close()\n",
    "conexion.close()\n"
   ]
  },
  {
   "cell_type": "code",
   "execution_count": 8,
   "metadata": {},
   "outputs": [
    {
     "name": "stdout",
     "output_type": "stream",
     "text": [
      "Datos insertados correctamente.\n"
     ]
    }
   ],
   "source": [
    "import mysql.connector\n",
    "from datetime import datetime\n",
    "\n",
    "# Establecer conexión con la base de datos\n",
    "conexion = mysql.connector.connect(\n",
    "    host=\"localhost\",\n",
    "    user=\"root\",\n",
    "    password=\"\",\n",
    "    database=\"fr\"\n",
    ")\n",
    "# Crear un cursor para ejecutar consultas\n",
    "cursor = conexion.cursor()\n",
    "\n",
    "# Definir la consulta SQL para insertar datos\n",
    "sql = \"INSERT INTO users (id, name, email, email_verified_at, password, usertype, remember_token, created_at, updated_at) VALUES (%s, %s, %s, %s, %s, %s, %s, %s, %s)\"\n",
    "\n",
    "# Datos que quieres insertar en la tabla\n",
    "datos = (\"2\", \"Carlos Arturo\", \"carlosar@mail.com\", None, \"123456\", \"user\", \"remember_token\", datetime.now(), datetime.now())\n",
    "\n",
    "# Ejecutar la consulta SQL con los datos proporcionados\n",
    "cursor.execute(sql, datos)\n",
    "\n",
    "# Confirmar la transacción\n",
    "conexion.commit()\n",
    "\n",
    "# Imprimir mensaje de éxito\n",
    "print(\"Datos insertados correctamente.\")\n",
    "\n",
    "# Cerrar el cursor y la conexión\n",
    "cursor.close()\n",
    "conexion.close()\n"
   ]
  },
  {
   "cell_type": "code",
   "execution_count": 9,
   "metadata": {},
   "outputs": [],
   "source": [
    "import pandas as pd\n",
    "\n",
    "# Leer datos desde un archivo CSV\n",
    "df = pd.read_csv('datos.csv')\n",
    "\n",
    "# Escribir datos a un archivo Excel\n",
    "df.to_excel('datos.xlsx', index=False)\n"
   ]
  },
  {
   "cell_type": "code",
   "execution_count": 13,
   "metadata": {},
   "outputs": [
    {
     "name": "stdout",
     "output_type": "stream",
     "text": [
      "  nombre  apellido  edad genero  puntuacion\n",
      "0   Juan    García    25      M          80\n",
      "1  María     López    30      F          90\n",
      "2   Luis     Pérez    28      M          75\n",
      "3    Ana      Ruíz    35      F          85\n",
      "4  Pedro  Martínez    40      M          95\n",
      "           edad  puntuacion\n",
      "count   5.00000    5.000000\n",
      "mean   31.60000   85.000000\n",
      "std     5.94138    7.905694\n",
      "min    25.00000   75.000000\n",
      "25%    28.00000   80.000000\n",
      "50%    30.00000   85.000000\n",
      "75%    35.00000   90.000000\n",
      "max    40.00000   95.000000\n"
     ]
    },
    {
     "data": {
      "text/plain": [
       "<Axes: >"
      ]
     },
     "execution_count": 13,
     "metadata": {},
     "output_type": "execute_result"
    },
    {
     "data": {
      "image/png": "[encoded data removed]",
      "text/plain": [
       "<Figure size 640x480 with 1 Axes>"
      ]
     },
     "metadata": {},
     "output_type": "display_data"
    }
   ],
   "source": [
    "# Ver las primeras filas de un DataFrame\n",
    "df = pd.read_csv('datos2.csv')\n",
    "print(df.head())\n",
    "\n",
    "# Calcular estadísticas descriptivas\n",
    "print(df.describe())\n",
    "\n",
    "# Graficar un histograma\n",
    "df['edad'].hist()\n"
   ]
  },
  {
   "cell_type": "code",
   "execution_count": 17,
   "metadata": {},
   "outputs": [
    {
     "name": "stdout",
     "output_type": "stream",
     "text": [
      "  nombre  edad genero  puntuacion\n",
      "0   Juan  25.0      M        80.0\n",
      "1  María  30.0      F        90.0\n",
      "4  Pedro  40.0      M        95.0\n"
     ]
    },
    {
     "name": "stderr",
     "output_type": "stream",
     "text": [
      "C:\\Users\\Dakar\\AppData\\Local\\Temp\\ipykernel_2136\\2531152978.py:10: FutureWarning: A value is trying to be set on a copy of a DataFrame or Series through chained assignment using an inplace method.\n",
      "The behavior will change in pandas 3.0. This inplace method will never work because the intermediate object on which we are setting values always behaves as a copy.\n",
      "\n",
      "For example, when doing 'df[col].method(value, inplace=True)', try using 'df.method({col: value}, inplace=True)' or df[col] = df[col].method(value) instead, to perform the operation inplace on the original object.\n",
      "\n",
      "\n",
      "  df['edad'].fillna(df['edad'].mean(), inplace=True)\n"
     ]
    }
   ],
   "source": [
    "import pandas as pd\n",
    "\n",
    "# Leer los datos desde el archivo CSV\n",
    "df = pd.read_csv('limdatos.csv')\n",
    "\n",
    "# Eliminar filas con valores nulos\n",
    "df = df.dropna()\n",
    "\n",
    "# Rellenar valores faltantes en la columna 'edad' con la media\n",
    "df['edad'].fillna(df['edad'].mean(), inplace=True)\n",
    "\n",
    "# Convertir tipo de datos de la columna 'fecha' a datetime\n",
    "#df['fecha'] = pd.to_datetime(df['fecha'])\n",
    "\n",
    "# Mostrar el DataFrame después de la limpieza y transformación\n",
    "print(df)\n"
   ]
  }
 ],
 "metadata": {
  "kernelspec": {
   "display_name": "Python 3 (ipykernel)",
   "language": "python",
   "name": "python3"
  },
  "language_info": {
   "codemirror_mode": {
    "name": "ipython",
    "version": 3
   },
   "file_extension": ".py",
   "mimetype": "text/x-python",
   "name": "python",
   "nbconvert_exporter": "python",
   "pygments_lexer": "ipython3",
   "version": "3.12.0"
  }
 },
 "nbformat": 4,
 "nbformat_minor": 4
}
