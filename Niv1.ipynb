{
 "cells": [
  {
   "cell_type": "code",
   "execution_count": null,
   "metadata": {},
   "outputs": [],
   "source": [
    "#Variables \n",
    "x = 50 \n",
    "nombre = \"Juan\""
   ]
  },
  {
   "cell_type": "code",
   "execution_count": 1,
   "metadata": {},
   "outputs": [
    {
     "name": "stdout",
     "output_type": "stream",
     "text": [
      "13 -3\n"
     ]
    }
   ],
   "source": [
    "#Operaciones \n",
    "a = 5 \n",
    "b = 8 \n",
    "\n",
    "suma =  a + b \n",
    "resta = a - b \n",
    "\n",
    "print(suma, resta)"
   ]
  },
  {
   "cell_type": "code",
   "execution_count": 2,
   "metadata": {},
   "outputs": [
    {
     "name": "stdout",
     "output_type": "stream",
     "text": [
      "Juan Perez\n"
     ]
    }
   ],
   "source": [
    "nombre = \"Juan\" \n",
    "apellido = \"Perez\" \n",
    "\n",
    "nombre_completo = nombre + \" \" + apellido \n",
    "print(nombre_completo)"
   ]
  },
  {
   "cell_type": "code",
   "execution_count": 4,
   "metadata": {},
   "outputs": [
    {
     "name": "stdout",
     "output_type": "stream",
     "text": [
      "1\n"
     ]
    }
   ],
   "source": [
    "mi_lista = [1, 2, 4, 5]  \n",
    "primer_elemento = mi_lista[0] \n",
    "print(primer_elemento)"
   ]
  },
  {
   "cell_type": "code",
   "execution_count": 5,
   "metadata": {},
   "outputs": [
    {
     "name": "stdout",
     "output_type": "stream",
     "text": [
      "20\n"
     ]
    }
   ],
   "source": [
    "#Asignacion multiple \n",
    "x, y, z = 10, 20, 30 \n",
    "print(y)\n"
   ]
  },
  {
   "cell_type": "code",
   "execution_count": 6,
   "metadata": {},
   "outputs": [
    {
     "name": "stdout",
     "output_type": "stream",
     "text": [
      "7 5\n"
     ]
    }
   ],
   "source": [
    "#Intercambio de valores \n",
    "a = 5 \n",
    "b = 7 \n",
    "\n",
    "a, b = b, a \n",
    "\n",
    "print(a, b)"
   ]
  },
  {
   "cell_type": "code",
   "execution_count": 7,
   "metadata": {},
   "outputs": [
    {
     "name": "stdout",
     "output_type": "stream",
     "text": [
      "<class 'set'>\n"
     ]
    }
   ],
   "source": [
    "#Conjuntos \n",
    "conjunto = {1, 2, 3, \"a\", \"b\"}\n",
    "print(type(conjunto))"
   ]
  },
  {
   "cell_type": "code",
   "execution_count": 8,
   "metadata": {},
   "outputs": [
    {
     "name": "stdout",
     "output_type": "stream",
     "text": [
      "La intersección de los conjuntos es: {4, 5}\n"
     ]
    }
   ],
   "source": [
    "#Interseccion \n",
    "conjunto1 = {1, 2, 3, 4, 5} \n",
    "conjunto2 = {4, 5, 6, 7, 8} \n",
    "\n",
    "interseccion = conjunto1.intersection(conjunto2) \n",
    "print(\"La intersección de los conjuntos es:\", interseccion) "
   ]
  },
  {
   "cell_type": "code",
   "execution_count": 10,
   "metadata": {},
   "outputs": [
    {
     "name": "stdout",
     "output_type": "stream",
     "text": [
      "La diferencia es:  {1, 2, 3}\n"
     ]
    }
   ],
   "source": [
    "#Comparacion o diferencia \n",
    "conjunto1 = {1, 2, 3, 4, 5} \n",
    "conjunto2 = {4, 5, 6, 7, 8}  \n",
    "\n",
    "diferencia = conjunto1.difference(conjunto2)\n",
    "\n",
    "print(\"La diferencia es: \", diferencia)"
   ]
  },
  {
   "cell_type": "code",
   "execution_count": 11,
   "metadata": {},
   "outputs": [
    {
     "name": "stdout",
     "output_type": "stream",
     "text": [
      "Union:  {1, 2, 3, 4, 5, 6, 7, 8}\n"
     ]
    }
   ],
   "source": [
    "#union\n",
    "conjunto1 = {1, 2, 3, 4, 5} \n",
    "conjunto2 = {4, 5, 6, 7, 8}   \n",
    "union = conjunto1.union(conjunto2) \n",
    "print(\"Union: \", union)"
   ]
  },
  {
   "cell_type": "code",
   "execution_count": 12,
   "metadata": {},
   "outputs": [
    {
     "name": "stdout",
     "output_type": "stream",
     "text": [
      "diferencia simetrica:  {1, 2, 3, 6, 7, 8}\n"
     ]
    }
   ],
   "source": [
    "#Dif simetrica \n",
    "conjunto1 = {1, 2, 3, 4, 5} \n",
    "conjunto2 = {4, 5, 6, 7, 8}  \n",
    "\n",
    "diferencia_simetrica = conjunto1.symmetric_difference(conjunto2) \n",
    "\n",
    "print(\"diferencia simetrica: \", diferencia_simetrica)"
   ]
  },
  {
   "cell_type": "code",
   "execution_count": 13,
   "metadata": {},
   "outputs": [
    {
     "name": "stdout",
     "output_type": "stream",
     "text": [
      "1\n",
      "2\n",
      "3\n",
      "4\n",
      "5\n"
     ]
    }
   ],
   "source": [
    "conjunto1 = {1, 2, 3, 4, 5} \n",
    "\n",
    "for elmento in conjunto1: \n",
    "    print(elmento)"
   ]
  },
  {
   "cell_type": "code",
   "execution_count": 16,
   "metadata": {},
   "outputs": [
    {
     "name": "stdout",
     "output_type": "stream",
     "text": [
      "El elemento no existe en el conjunto\n"
     ]
    }
   ],
   "source": [
    "#Comprabacion de pertenencia \n",
    "conjunto1 = {1, 2, 3, 4, 5, 6}  \n",
    "\n",
    "if 10 in conjunto1: \n",
    "    print(\"El elemento esta en el  conjunto\") \n",
    "else: \n",
    "    print(\"El elemento no existe en el conjunto\")"
   ]
  },
  {
   "cell_type": "code",
   "execution_count": 19,
   "metadata": {},
   "outputs": [
    {
     "name": "stdout",
     "output_type": "stream",
     "text": [
      "{1, 3, 4, 5, 6, 7}\n"
     ]
    }
   ],
   "source": [
    "conjunto1 = {1, 2, 3, 4, 5, 6}  \n",
    "conjunto1.add(7) \n",
    "conjunto1.remove(2)\n",
    "print(conjunto1)"
   ]
  },
  {
   "cell_type": "code",
   "execution_count": 24,
   "metadata": {},
   "outputs": [
    {
     "name": "stdout",
     "output_type": "stream",
     "text": [
      "(1, 2, 3, 4, 5, 6, 7, 8) 8\n"
     ]
    }
   ],
   "source": [
    "####TUPLAS#### \n",
    "tupla1 = (1, 2, 3, 4, 5)  \n",
    "tupla2 = tuple([4, 5, 6, 7, 8]) \n",
    "\n",
    "nueva_tupla = tupla1 + (6, 7, 8) \n",
    "longitud = len(nueva_tupla)\n",
    "print(nueva_tupla, longitud)"
   ]
  },
  {
   "cell_type": "code",
   "execution_count": 26,
   "metadata": {},
   "outputs": [
    {
     "name": "stdout",
     "output_type": "stream",
     "text": [
      "[1, 2, 10, 4, 5, 6]\n"
     ]
    }
   ],
   "source": [
    "###LISTAS### \n",
    "mi_lista = [1, 2, 3, 4, 5, 6] \n",
    "mi_lista[2] = 10 \n",
    "print(mi_lista)"
   ]
  },
  {
   "cell_type": "code",
   "execution_count": 27,
   "metadata": {},
   "outputs": [
    {
     "name": "stdout",
     "output_type": "stream",
     "text": [
      "[1, 2, 3, 4, 5, 6, 7]\n"
     ]
    }
   ],
   "source": [
    "#Agregar elementos\n",
    "mi_lista = [1, 2, 3, 4, 5, 6] \n",
    "mi_lista.append(7)\n",
    "print(mi_lista)"
   ]
  },
  {
   "cell_type": "code",
   "execution_count": 28,
   "metadata": {},
   "outputs": [
    {
     "name": "stdout",
     "output_type": "stream",
     "text": [
      "[1, 2, 3, 5, 6]\n"
     ]
    }
   ],
   "source": [
    "#Eliminar elementos\n",
    "mi_lista = [1, 2, 3, 4, 5, 6] \n",
    "del mi_lista[3]\n",
    "print(mi_lista)"
   ]
  },
  {
   "cell_type": "code",
   "execution_count": 29,
   "metadata": {},
   "outputs": [
    {
     "name": "stdout",
     "output_type": "stream",
     "text": [
      "El ultimo elemento es: 6\n",
      "[1, 2, 3, 4, 5]\n"
     ]
    }
   ],
   "source": [
    "#Eliminar el ultimo item de la lista \n",
    "mi_lista = [1, 2, 3, 4, 5, 6] \n",
    "ultimo_elemento = mi_lista.pop()\n",
    "print(\"El ultimo elemento es:\", ultimo_elemento)\n",
    "print(mi_lista)"
   ]
  },
  {
   "cell_type": "code",
   "execution_count": 30,
   "metadata": {},
   "outputs": [
    {
     "name": "stdout",
     "output_type": "stream",
     "text": [
      "[1, 2, 3, 4, 5, 6, 7, 8, 9, 10]\n"
     ]
    }
   ],
   "source": [
    "#Extender listas \n",
    "mi_lista = [1, 2, 3, 4, 5, 6]  \n",
    "otra_lista = [7, 8, 9, 10] \n",
    "\n",
    "mi_lista.extend(otra_lista) \n",
    "print(mi_lista)"
   ]
  },
  {
   "cell_type": "code",
   "execution_count": 31,
   "metadata": {},
   "outputs": [
    {
     "name": "stdout",
     "output_type": "stream",
     "text": [
      "3\n"
     ]
    }
   ],
   "source": [
    "#Contar cuantas veces se repite un elemento \n",
    "mi_lista = [1, 2, 3, 1, 4, 1] \n",
    "ocurrencias = mi_lista.count(1) \n",
    "print(ocurrencias)"
   ]
  },
  {
   "cell_type": "code",
   "execution_count": 32,
   "metadata": {},
   "outputs": [
    {
     "name": "stdout",
     "output_type": "stream",
     "text": [
      "[6, 5, 4, 3, 2, 1]\n"
     ]
    }
   ],
   "source": [
    "#Metodo reverse\n",
    "mi_lista = [1, 2, 3, 4, 5, 6]  \n",
    "mi_lista.reverse()\n",
    "print(mi_lista)"
   ]
  }
 ],
 "metadata": {
  "kernelspec": {
   "display_name": "Python 3 (ipykernel)",
   "language": "python",
   "name": "python3"
  },
  "language_info": {
   "codemirror_mode": {
    "name": "ipython",
    "version": 3
   },
   "file_extension": ".py",
   "mimetype": "text/x-python",
   "name": "python",
   "nbconvert_exporter": "python",
   "pygments_lexer": "ipython3",
   "version": "3.12.0"
  }
 },
 "nbformat": 4,
 "nbformat_minor": 4
}
